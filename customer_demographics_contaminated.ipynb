{
 "cells": [
  {
   "cell_type": "code",
   "execution_count": 10,
   "id": "a256fb43-22c2-4a65-b4c7-a07e02eab25e",
   "metadata": {},
   "outputs": [
    {
     "name": "stdout",
     "output_type": "stream",
     "text": [
      "                              CustomerID   Age  Gender         Location  \\\n",
      "0   9207fa75-5758-48d1-94ad-19c041e0520f  51.0  Female       Jensenberg   \n",
      "3   50118139-7264-428f-81cc-a25fddc5d6dd  44.0    Male        Port Carl   \n",
      "4   7d1f2bbc-8d16-4fbc-9b37-ece3324e8ed4  50.0  Female        Jessebury   \n",
      "5   2de49c7c-32ae-4ba8-b058-622a090d7094  53.0  Female       Emilyville   \n",
      "13  8602d631-457c-49c1-8b59-8efb2a4448d4  51.0    Male  East Keithville   \n",
      "\n",
      "   IncomeLevel SignupDate  \n",
      "0          Low 2022-11-17  \n",
      "3       Medium 2024-06-10  \n",
      "4         High 2023-08-24  \n",
      "5          Low 2022-02-13  \n",
      "13        High 2022-04-17  \n"
     ]
    },
    {
     "name": "stderr",
     "output_type": "stream",
     "text": [
      "/var/folders/cd/1dc2932922n8vmldmzpn4ds40000gn/T/ipykernel_46228/3384768997.py:8: SettingWithCopyWarning: \n",
      "A value is trying to be set on a copy of a slice from a DataFrame.\n",
      "Try using .loc[row_indexer,col_indexer] = value instead\n",
      "\n",
      "See the caveats in the documentation: https://pandas.pydata.org/pandas-docs/stable/user_guide/indexing.html#returning-a-view-versus-a-copy\n",
      "  data_cleaned['Age'] = pd.to_numeric(data_cleaned['Age'], errors='coerce')\n"
     ]
    }
   ],
   "source": [
    "import pandas as pd\n",
    "\n",
    "file_path = 'customer_demographics_contaminated.csv'\n",
    "data = pd.read_csv(file_path)\n",
    "\n",
    "data_cleaned = data.drop_duplicates(subset=['CustomerID'])\n",
    "\n",
    "data_cleaned['Age'] = pd.to_numeric(data_cleaned['Age'], errors='coerce')\n",
    "\n",
    "data_cleaned = data_cleaned[(data_cleaned['Age'] > 0) & (data_cleaned['Age'] <= 100)]\n",
    "\n",
    "data_cleaned = data_cleaned[data_cleaned['IncomeLevel'] != '0']\n",
    "data_cleaned = data_cleaned[data_cleaned['IncomeLevel'].notnull()]\n",
    "\n",
    "data_cleaned['SignupDate'] = pd.to_datetime(data_cleaned['SignupDate'], errors='coerce')\n",
    "data_cleaned = data_cleaned[data_cleaned['SignupDate'].notnull()]\n",
    "\n",
    "cleaned_file_path = 'customer_demographics_contaminated_cleaned_v1.csv'\n",
    "data_cleaned.to_csv(cleaned_file_path, index=False)\n",
    "\n",
    "print(data_cleaned.head())"
   ]
  },
  {
   "cell_type": "code",
   "execution_count": null,
   "id": "3c2ab456-adaa-424e-8efb-0beb4cc36098",
   "metadata": {},
   "outputs": [],
   "source": []
  }
 ],
 "metadata": {
  "kernelspec": {
   "display_name": "Python 3 (ipykernel)",
   "language": "python",
   "name": "python3"
  },
  "language_info": {
   "codemirror_mode": {
    "name": "ipython",
    "version": 3
   },
   "file_extension": ".py",
   "mimetype": "text/x-python",
   "name": "python",
   "nbconvert_exporter": "python",
   "pygments_lexer": "ipython3",
   "version": "3.12.4"
  }
 },
 "nbformat": 4,
 "nbformat_minor": 5
}

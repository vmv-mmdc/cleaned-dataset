{
 "cells": [
  {
   "cell_type": "code",
   "execution_count": 8,
   "id": "8c39d76a-3c17-49bc-ab13-8c5cb0c2c5f5",
   "metadata": {},
   "outputs": [
    {
     "name": "stdout",
     "output_type": "stream",
     "text": [
      "                             CustomerID                         TransactionID  \\\n",
      "0  60567026-f719-4cd6-849e-137e86d8938f  5ff75116-0a50-4d04-80fb-31e5ccbb0769   \n",
      "1  4090ba85-b111-4f75-a792-c777965f5255  2c39b9fe-ff57-4d39-9321-9f5cdf187aa1   \n",
      "2  9223891b-73ff-4d5c-b8ae-13ece82ee28b  f79588dd-3db9-4ffa-97f8-7de0e64259f1   \n",
      "3  9243eebc-938f-480c-8564-16d503d250de  401c0fc9-60df-4455-ad78-67c132f9897d   \n",
      "4  6e3e8eb8-bc0f-4ffe-9f74-5d5efec9502f  2034aebc-8280-4254-a667-92bcd1c2be4f   \n",
      "\n",
      "  TransactionDate  Amount  ProductCategory  PaymentMethod  \n",
      "0      2024-05-15  117.64         Clothing         PayPal  \n",
      "1      2023-04-26  466.14  Health & Beauty  Bank Transfer  \n",
      "2      2022-09-23  563.99         Clothing     Debit Card  \n",
      "3      2024-04-15  254.44       Automotive         PayPal  \n",
      "4      2024-06-03  590.52    Home & Garden  Bank Transfer  \n"
     ]
    }
   ],
   "source": [
    "import pandas as pd\n",
    "\n",
    "file_path = 'customer_transactions_contaminated.csv'\n",
    "\n",
    "transaction_data = pd.read_csv(file_path)\n",
    "\n",
    "transaction_data_cleaned = transaction_data.drop_duplicates(subset=['CustomerID', 'TransactionID'])\n",
    "\n",
    "transaction_data_cleaned = transaction_data_cleaned[transaction_data_cleaned['ProductCategory'].notnull()]\n",
    "\n",
    "transaction_data_cleaned['Amount'] = transaction_data_cleaned['Amount'].replace(0, 'No Charge')\n",
    "transaction_data_cleaned['Amount'] = transaction_data_cleaned['Amount'].fillna('No Charge')\n",
    "\n",
    "transaction_data_cleaned['TransactionDate'] = pd.to_datetime(transaction_data_cleaned['TransactionDate'], errors='coerce')\n",
    "\n",
    "cleaned_file_path = 'customer_transactions_contaminated_cleaned_v1.csv'\n",
    "transaction_data_cleaned.to_csv(cleaned_file_path, index=False)\n",
    "\n",
    "print(transaction_data_cleaned.head())\n"
   ]
  },
  {
   "cell_type": "code",
   "execution_count": null,
   "id": "68c47f26-0dc2-4890-9f00-8fea3e3aefe1",
   "metadata": {},
   "outputs": [],
   "source": []
  }
 ],
 "metadata": {
  "kernelspec": {
   "display_name": "Python 3 (ipykernel)",
   "language": "python",
   "name": "python3"
  },
  "language_info": {
   "codemirror_mode": {
    "name": "ipython",
    "version": 3
   },
   "file_extension": ".py",
   "mimetype": "text/x-python",
   "name": "python",
   "nbconvert_exporter": "python",
   "pygments_lexer": "ipython3",
   "version": "3.12.4"
  }
 },
 "nbformat": 4,
 "nbformat_minor": 5
}

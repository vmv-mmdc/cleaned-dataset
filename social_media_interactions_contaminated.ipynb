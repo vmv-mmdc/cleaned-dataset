{
 "cells": [
  {
   "cell_type": "code",
   "execution_count": 4,
   "id": "d219df07-19dd-4ae9-a308-547506081f9e",
   "metadata": {},
   "outputs": [
    {
     "name": "stdout",
     "output_type": "stream",
     "text": [
      "                              CustomerID  \\\n",
      "2   08a911a3-65e6-4f5d-a6a1-ae7ddcbe28a2   \n",
      "3   efdfdfc9-5dbb-4478-911a-101a390a0285   \n",
      "5   3e44871b-f56c-4576-b1ca-d1dc999e2166   \n",
      "6   aa5eea4b-c948-41f4-9285-229a470002aa   \n",
      "10  481bcc62-9dcb-4766-bbdd-79f5554d73f8   \n",
      "\n",
      "                           InteractionID InteractionDate   Platform  \\\n",
      "2   a83fa04c-f109-4f24-8ce1-2078154f6a1c      2024-05-24  Instagram   \n",
      "3   28a69c4b-a2e4-4c74-a130-1132d7733fdf      2023-11-01  Instagram   \n",
      "5   0c409883-8396-48e4-83fb-887329848696      2023-12-18  Instagram   \n",
      "6   4034dadf-6541-40d6-a7f0-16b20a009c04      2023-11-15  Instagram   \n",
      "10  785b7854-4548-4251-83f2-a25da78bfe40      2024-05-28    Twitter   \n",
      "\n",
      "   InteractionType Sentiment  \n",
      "2          Comment   Neutral  \n",
      "3             Like   Neutral  \n",
      "5          Comment  Positive  \n",
      "6            Share  Positive  \n",
      "10            Like  Positive  \n"
     ]
    }
   ],
   "source": [
    "import pandas as pd\n",
    "\n",
    "file_path = 'social_media_interactions_contaminated.csv'\n",
    "data = pd.read_csv(file_path)\n",
    "\n",
    "data_cleaned = data.drop_duplicates(subset=['CustomerID', 'InteractionID'])\n",
    "\n",
    "data_cleaned = data_cleaned[data_cleaned['Platform'].notnull()]\n",
    "\n",
    "data_cleaned = data_cleaned[data_cleaned['Sentiment'].notnull()]\n",
    "\n",
    "data_cleaned['InteractionDate'] = pd.to_datetime(data_cleaned['InteractionDate'], errors='coerce')\n",
    "data_cleaned = data_cleaned[data_cleaned['InteractionDate'].notnull()]\n",
    "\n",
    "cleaned_file_path = 'social_media_interactions_contaminated_cleaned_v2.csv'\n",
    "data_cleaned.to_csv(cleaned_file_path, index=False)\n",
    "\n",
    "print(data_cleaned.head())\n"
   ]
  },
  {
   "cell_type": "code",
   "execution_count": null,
   "id": "da456fa0-b903-4f76-bd61-74687f9cea51",
   "metadata": {},
   "outputs": [],
   "source": []
  }
 ],
 "metadata": {
  "kernelspec": {
   "display_name": "Python 3 (ipykernel)",
   "language": "python",
   "name": "python3"
  },
  "language_info": {
   "codemirror_mode": {
    "name": "ipython",
    "version": 3
   },
   "file_extension": ".py",
   "mimetype": "text/x-python",
   "name": "python",
   "nbconvert_exporter": "python",
   "pygments_lexer": "ipython3",
   "version": "3.12.4"
  }
 },
 "nbformat": 4,
 "nbformat_minor": 5
}
